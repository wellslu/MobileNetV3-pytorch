{
 "cells": [
  {
   "cell_type": "code",
   "execution_count": 1,
   "id": "8df52842",
   "metadata": {
    "scrolled": true
   },
   "outputs": [],
   "source": [
    "import mlconfig\n",
    "import mlflow\n",
    "import numpy as np\n",
    "import torch\n",
    "\n",
    "import src\n",
    "\n",
    "def manual_seed(seed=0):\n",
    "    \"\"\"https://pytorch.org/docs/stable/notes/randomness.html\"\"\"\n",
    "    torch.manual_seed(seed)\n",
    "    np.random.seed(seed)\n",
    "\n",
    "\n",
    "def main():\n",
    "    config_path = './configs/config.yaml'\n",
    "    config = mlconfig.load(config_path)\n",
    "    mlflow.log_artifact(config_path)\n",
    "    mlflow.log_params(config.flat())\n",
    "\n",
    "    manual_seed()\n",
    "\n",
    "    device = torch.device('cuda' if torch.cuda.is_available() else 'cpu')\n",
    "    model = config.model().to(device)\n",
    "    optimizer = config.optimizer(model.parameters())\n",
    "    scheduler = config.scheduler(optimizer)\n",
    "    train_loader = config.dataset(root='../data', list_file='train')\n",
    "    test_loader = config.dataset(root='../data', list_file='test')\n",
    "\n",
    "    trainer = config.trainer(device, model, optimizer, scheduler, train_loader, test_loader)\n",
    "\n",
    "    trainer.fit()\n",
    "\n",
    "\n",
    "if __name__ == '__main__':\n",
    "    main()"
   ]
  },
  {
   "cell_type": "code",
   "execution_count": null,
   "id": "fd775a34",
   "metadata": {
    "scrolled": true
   },
   "outputs": [],
   "source": [
    "from torchsummary import summary\n",
    "summary(model, (3, 224, 224))"
   ]
  },
  {
   "cell_type": "code",
   "execution_count": null,
   "id": "931bc242",
   "metadata": {},
   "outputs": [],
   "source": []
  }
 ],
 "metadata": {
  "kernelspec": {
   "display_name": "Python 3 (ipykernel)",
   "language": "python",
   "name": "python3"
  },
  "language_info": {
   "codemirror_mode": {
    "name": "ipython",
    "version": 3
   },
   "file_extension": ".py",
   "mimetype": "text/x-python",
   "name": "python",
   "nbconvert_exporter": "python",
   "pygments_lexer": "ipython3",
   "version": "3.9.12"
  }
 },
 "nbformat": 4,
 "nbformat_minor": 5
}
